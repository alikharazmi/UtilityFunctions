{
  "nbformat": 4,
  "nbformat_minor": 0,
  "metadata": {
    "colab": {
      "provenance": [],
      "authorship_tag": "ABX9TyNi6OrZFPEUkKjrxLcJH1Tr"
    },
    "kernelspec": {
      "name": "python3",
      "display_name": "Python 3"
    },
    "language_info": {
      "name": "python"
    }
  },
  "cells": [
    {
      "cell_type": "markdown",
      "source": [
        " ## Color Print\n",
        "\n",
        "Prints with a different color. very usefull to color code warnings to draw attention to"
      ],
      "metadata": {
        "id": "B64tcRLsRFGL"
      }
    },
    {
      "cell_type": "code",
      "source": [
        "def color_print(text, color='red', end='\\n'):\n",
        "    colors = {\n",
        "        'red': '\\033[31m',\n",
        "        'green': '\\033[32m',\n",
        "        'blue': '\\033[34m',\n",
        "        'purple': '\\033[35m',\n",
        "        'cyan': '\\033[36m',\n",
        "        'yellow': '\\033[33m',\n",
        "        'black': '\\033[30m',  # Added black color\n",
        "        'white': '\\033[37m',  # Added white color\n",
        "        'light_gray': '\\033[37m',  # Added light_gray color\n",
        "        'dark_gray': '\\033[90m',  # Added dark_gray color\n",
        "        'magenta': '\\033[95m',  # Added magenta color\n",
        "        'light_blue': '\\033[94m',  # Added light_blue color\n",
        "        'light_green': '\\033[92m',  # Added light_green color\n",
        "        'light_cyan': '\\033[96m',  # Added light_cyan color\n",
        "        'light_red': '\\033[91m',  # Added light_red color\n",
        "        'light_purple': '\\033[93m',  # Added light_purple color\n",
        "        'light_yellow': '\\033[93m'  # Added light_yellow color\n",
        "    }\n",
        "\n",
        "    color_code = colors.get(color.lower(), '')\n",
        "    reset_code = '\\033[0m'\n",
        "    print(f\"{color_code}{text}{reset_code}\", end=end)\n",
        "\n",
        "# Example\n",
        "val=3.1415\n",
        "color_print(val,'blue')\n",
        "color_print(val,'light_cyan')\n",
        "color_print(val,'magenta')"
      ],
      "metadata": {
        "colab": {
          "base_uri": "https://localhost:8080/"
        },
        "id": "3Li-qYUCRFeY",
        "outputId": "885907a1-71ce-4264-d607-0b99848501a7"
      },
      "execution_count": 1,
      "outputs": [
        {
          "output_type": "stream",
          "name": "stdout",
          "text": [
            "\u001b[34m3.1415\u001b[0m\n",
            "\u001b[96m3.1415\u001b[0m\n",
            "\u001b[95m3.1415\u001b[0m\n"
          ]
        }
      ]
    }
  ]
}